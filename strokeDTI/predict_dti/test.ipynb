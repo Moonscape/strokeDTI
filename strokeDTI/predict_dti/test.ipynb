{
 "cells": [
  {
   "cell_type": "markdown",
   "metadata": {},
   "source": [
    "# Imports"
   ]
  },
  {
   "cell_type": "code",
   "execution_count": 1,
   "metadata": {},
   "outputs": [],
   "source": [
    "%load_ext autoreload\n",
    "%autoreload 2\n",
    "\n",
    "import os\n",
    "import torch\n",
    "import torch.nn as nn\n",
    "import numpy as np\n",
    "import pandas as pd\n",
    "from tqdm import tqdm\n",
    "from os.path import exists\n",
    "import matplotlib.pyplot as plt\n",
    "import pandas as pd\n",
    "import pickle"
   ]
  },
  {
   "cell_type": "code",
   "execution_count": 2,
   "metadata": {},
   "outputs": [
    {
     "name": "stdout",
     "output_type": "stream",
     "text": [
      "2.5.1\n"
     ]
    }
   ],
   "source": [
    "os.environ['TORCH'] = torch.__version__\n",
    "print(torch.__version__)"
   ]
  },
  {
   "cell_type": "markdown",
   "metadata": {},
   "source": [
    "# Load custom scripts"
   ]
  },
  {
   "cell_type": "code",
   "execution_count": 3,
   "metadata": {},
   "outputs": [],
   "source": [
    "from strokeDTI.predict_dti.encoder import *\n",
    "from strokeDTI.predict_dti.model import *\n",
    "from strokeDTI.predict_dti.data_processing import *\n",
    "from strokeDTI.predict_dti.train_test_utility import *\n",
    "from strokeDTI.predict_dti.samples_for_testing import *\n",
    "from strokeDTI.predict_dti.params import *"
   ]
  },
  {
   "cell_type": "markdown",
   "metadata": {},
   "source": [
    "# Test model"
   ]
  },
  {
   "cell_type": "code",
   "execution_count": 4,
   "metadata": {},
   "outputs": [],
   "source": [
    "testModel = get_model_from_name('ResGatedGraphConv')"
   ]
  },
  {
   "cell_type": "code",
   "execution_count": 5,
   "metadata": {},
   "outputs": [
    {
     "data": {
      "text/plain": [
       "ResGatedModel(\n",
       "  (drug_model): ResGatedGraphConv(33, 256)\n",
       "  (target_model): CNN(\n",
       "    (extraction): Sequential(\n",
       "      (0): Conv1d(26, 64, kernel_size=(3,), stride=(1,))\n",
       "      (1): ReLU(inplace=True)\n",
       "      (2): Conv1d(64, 256, kernel_size=(3,), stride=(1,))\n",
       "      (3): ReLU(inplace=True)\n",
       "      (4): Conv1d(256, 1024, kernel_size=(5,), stride=(1,))\n",
       "      (5): ReLU(inplace=True)\n",
       "      (6): Dropout(p=0.25, inplace=False)\n",
       "      (7): AdaptiveMaxPool1d(output_size=1)\n",
       "    )\n",
       "    (output): Sequential(\n",
       "      (0): Linear(in_features=1024, out_features=768, bias=True)\n",
       "      (1): ReLU()\n",
       "    )\n",
       "  )\n",
       "  (mlp): Sequential(\n",
       "    (0): Linear(in_features=1024, out_features=1024, bias=True)\n",
       "    (1): ReLU()\n",
       "    (2): Dropout(p=0.2, inplace=False)\n",
       "    (3): Linear(in_features=1024, out_features=1024, bias=True)\n",
       "    (4): ReLU()\n",
       "    (5): Dropout(p=0.2, inplace=False)\n",
       "    (6): Linear(in_features=1024, out_features=512, bias=True)\n",
       "    (7): ReLU()\n",
       "    (8): Linear(in_features=512, out_features=1, bias=True)\n",
       "    (9): ReLU()\n",
       "  )\n",
       ")"
      ]
     },
     "execution_count": 5,
     "metadata": {},
     "output_type": "execute_result"
    }
   ],
   "source": [
    "testModel"
   ]
  },
  {
   "cell_type": "code",
   "execution_count": 6,
   "metadata": {},
   "outputs": [
    {
     "data": {
      "text/plain": [
       "{'ripk1': 'MQPDMSLNVIKMKSSDFLESAELDSGGFGKVSLCFHRTQGLMIMKTVYKGPNCIEHNEAL\\n    LEEAKMMNRLRHSRVVKLLGVIIEEGKYSLVMEYMEKGNLMHVLKAEMSTPLSVKGRIIL\\nEIIEGMCYLHGKGVIHKDLKPENILVDNDFHIKIADLGLASFKMWSKLNNEEHNELREVD\\nGTAKKNGGTLYYMAPEHLNDVNAKPTEKSDVYSFAVVLWAIFANKEPYENAICEQQLIMC\\nIKSGNRPDVDDITEYCPREIISLMKLCWEANPEARPTFPGIEEKFRPFYLSQLEESVEED\\nVKSLKKEYSNENAVVKRMQSLQLDCVAVPSSRSNSATEQPGSLHSSQGLGMGPVEESWFA\\nPSLEHPQEENEPSLQSKLQDEANYHLYGSRMDRQTKQQPRQNVAYNREEERRRRVSHDPF\\nAQQRPYENFQNTEGKGTAYSSAASHGNAVHQPSGLTSQPQVLYQNNGLYSSHGFGTRPLD\\nPGTAGPRVWYRPIPSHMPSLHNIPVPETNYLGNTPTMPFSSLPPTDESIKYTIYNSTGIQ\\nIGAYNYMEIGGTSSSLLDSTNTNFKEEPAAKYQAIFDNTTSLTDKHLDPIRENLGKHWKN\\nCARKLGFTQSQIDEIDHDYERDGLKEKVYQMLQKWVMREGIKGATVGKLAQALHQCSRID\\nLLSSLIYVSQN',\n",
       " 'ripk3': 'MSCVKLWPSGAPAPLVSIEELENQELVGKGGFGTVFRAQHRKWG\\n    YDVAVKIVNSKAISREVKAMASLDNEFVLRLEGVIEKVNWDQDPKPALVTKFMEN\\n    GSLSGLLQSQCPRPWPLLCRLLKEVVLGMFYLHDQNPVLLHRDLKPSNVLLDPEL\\n    HVKLADFGLSTFQGGSQSGTGSGEPGGTLGYLAPELFVNVNRKASTASDVYSFGI\\n    LMWAVLAGREVELPTEPSLVYEAVCNRQNRPSLAELPQAGPETPGLEGLKELMQL\\n    CWSSEPKDRPSFQECLPKTDEVFQMVENNMNAAVSTVKDFLSQLRSSNRRFSIPE\\n    SGQGGTEMDGFRRTIENQHSRNDVMVSEWLNKLNLEEPPSSVPKKCPSLTKRSRAQ\\n    EEQVPQAWTAGTSSDSMAQPPQTPETSTFRNQMPSPTSTGTPSPGPRGNQGAERQG\\n    MNWSCRTPEPNPVTGRPLVNIYNCSGVQVGDNNYLTMQQTTALPTWGLAPSGKGRG\\n    LQHPPPVGSQEGPKDPEAWSRPQGWYNHSGK',\n",
       " 'caspase3': '\\n    MENTENSVDS KSIKNLEPKI IHGSESMDSG ISLDNSYKMD YPEMGLCIII NNKNFHKSTG\\nMTSRSGTDVD AANLRETFRN LKYEVRNKND LTREEIVELM RDVSKEDHSK RSSFVCVLLS\\nHGEEGIIFGT NGPVDLKKIT NFFRGDRCRS LTGKPKLFII QACRGTELDC GIETDSGVDD\\nDMACHKIPVE ADFLYAYSTA PGYYSWRNSK DGSWFIQSLC AMLKQYADKL EFMHILTRVN\\nRKVATEFESF SFDATFHAKK QIPCIVSMLT KELYFYH\\n    '}"
      ]
     },
     "execution_count": 6,
     "metadata": {},
     "output_type": "execute_result"
    }
   ],
   "source": [
    "sequence_dic"
   ]
  },
  {
   "cell_type": "code",
   "execution_count": 7,
   "metadata": {},
   "outputs": [],
   "source": [
    "# import json\n",
    "\n",
    "# # Saving the dictionary to a file\n",
    "# with open(\"../../data/sequence_dic.json\", \"w\") as file:\n",
    "#     json.dump(sequence_dic, file)"
   ]
  },
  {
   "cell_type": "code",
   "execution_count": 8,
   "metadata": {},
   "outputs": [],
   "source": [
    "with open(\"../../data/sequence_dic.json\", \"r\") as file:\n",
    "    loaded_sequence_dic = json.load(file)"
   ]
  },
  {
   "cell_type": "code",
   "execution_count": 9,
   "metadata": {},
   "outputs": [
    {
     "data": {
      "text/plain": [
       "{'ripk1': 'MQPDMSLNVIKMKSSDFLESAELDSGGFGKVSLCFHRTQGLMIMKTVYKGPNCIEHNEAL\\n    LEEAKMMNRLRHSRVVKLLGVIIEEGKYSLVMEYMEKGNLMHVLKAEMSTPLSVKGRIIL\\nEIIEGMCYLHGKGVIHKDLKPENILVDNDFHIKIADLGLASFKMWSKLNNEEHNELREVD\\nGTAKKNGGTLYYMAPEHLNDVNAKPTEKSDVYSFAVVLWAIFANKEPYENAICEQQLIMC\\nIKSGNRPDVDDITEYCPREIISLMKLCWEANPEARPTFPGIEEKFRPFYLSQLEESVEED\\nVKSLKKEYSNENAVVKRMQSLQLDCVAVPSSRSNSATEQPGSLHSSQGLGMGPVEESWFA\\nPSLEHPQEENEPSLQSKLQDEANYHLYGSRMDRQTKQQPRQNVAYNREEERRRRVSHDPF\\nAQQRPYENFQNTEGKGTAYSSAASHGNAVHQPSGLTSQPQVLYQNNGLYSSHGFGTRPLD\\nPGTAGPRVWYRPIPSHMPSLHNIPVPETNYLGNTPTMPFSSLPPTDESIKYTIYNSTGIQ\\nIGAYNYMEIGGTSSSLLDSTNTNFKEEPAAKYQAIFDNTTSLTDKHLDPIRENLGKHWKN\\nCARKLGFTQSQIDEIDHDYERDGLKEKVYQMLQKWVMREGIKGATVGKLAQALHQCSRID\\nLLSSLIYVSQN',\n",
       " 'ripk3': 'MSCVKLWPSGAPAPLVSIEELENQELVGKGGFGTVFRAQHRKWG\\n    YDVAVKIVNSKAISREVKAMASLDNEFVLRLEGVIEKVNWDQDPKPALVTKFMEN\\n    GSLSGLLQSQCPRPWPLLCRLLKEVVLGMFYLHDQNPVLLHRDLKPSNVLLDPEL\\n    HVKLADFGLSTFQGGSQSGTGSGEPGGTLGYLAPELFVNVNRKASTASDVYSFGI\\n    LMWAVLAGREVELPTEPSLVYEAVCNRQNRPSLAELPQAGPETPGLEGLKELMQL\\n    CWSSEPKDRPSFQECLPKTDEVFQMVENNMNAAVSTVKDFLSQLRSSNRRFSIPE\\n    SGQGGTEMDGFRRTIENQHSRNDVMVSEWLNKLNLEEPPSSVPKKCPSLTKRSRAQ\\n    EEQVPQAWTAGTSSDSMAQPPQTPETSTFRNQMPSPTSTGTPSPGPRGNQGAERQG\\n    MNWSCRTPEPNPVTGRPLVNIYNCSGVQVGDNNYLTMQQTTALPTWGLAPSGKGRG\\n    LQHPPPVGSQEGPKDPEAWSRPQGWYNHSGK',\n",
       " 'caspase3': '\\n    MENTENSVDS KSIKNLEPKI IHGSESMDSG ISLDNSYKMD YPEMGLCIII NNKNFHKSTG\\nMTSRSGTDVD AANLRETFRN LKYEVRNKND LTREEIVELM RDVSKEDHSK RSSFVCVLLS\\nHGEEGIIFGT NGPVDLKKIT NFFRGDRCRS LTGKPKLFII QACRGTELDC GIETDSGVDD\\nDMACHKIPVE ADFLYAYSTA PGYYSWRNSK DGSWFIQSLC AMLKQYADKL EFMHILTRVN\\nRKVATEFESF SFDATFHAKK QIPCIVSMLT KELYFYH\\n    '}"
      ]
     },
     "execution_count": 9,
     "metadata": {},
     "output_type": "execute_result"
    }
   ],
   "source": [
    "loaded_sequence_dic"
   ]
  },
  {
   "cell_type": "markdown",
   "metadata": {},
   "source": [
    "# Test on different models"
   ]
  },
  {
   "cell_type": "code",
   "execution_count": 10,
   "metadata": {},
   "outputs": [],
   "source": [
    "model_name_list = ['transformer_cnn','gatv2conv_cnn','gineconv_cnn','mpnn_cnn','ResGatedGraphConv']"
   ]
  },
  {
   "cell_type": "code",
   "execution_count": 11,
   "metadata": {},
   "outputs": [],
   "source": [
    "drug_df = pd.read_csv('../../data/drug_list_with_smiles_first_20.csv')"
   ]
  },
  {
   "cell_type": "code",
   "execution_count": 12,
   "metadata": {},
   "outputs": [],
   "source": [
    "# # Save first 10 to save time\n",
    "\n",
    "# drug_df = drug_df[:20]\n",
    "\n",
    "# drug_df.to_csv('../../data/drug_list_with_smiles_first_20.csv', index=False)"
   ]
  },
  {
   "cell_type": "code",
   "execution_count": 13,
   "metadata": {},
   "outputs": [
    {
     "name": "stderr",
     "output_type": "stream",
     "text": [
      "Computing DTI_scores: 100%|██████████| 1500/1500 [02:38<00:00,  9.48it/s]\n"
     ]
    }
   ],
   "source": [
    "cleaned_target_dict = {target: remove_line(seq) for target, seq in loaded_sequence_dic.items()}\n",
    "\n",
    "\n",
    "total_fold = 5\n",
    "\n",
    "# Initialize a list to store the results\n",
    "results = []\n",
    "\n",
    "total_iterations = len(model_name_list) * total_fold * len(drug_df) * len(cleaned_target_dict)\n",
    "with tqdm(total=total_iterations, desc=\"Computing DTI_scores\",position=0) as pbar:\n",
    "    for model_name in model_name_list:\n",
    "        for fold in range(1, total_fold+1):  # Assuming folds 1 to 5\n",
    "            # Setup the model for the current fold\n",
    "            test_model = setup_model(model_name, fold, model_output=\"../../data/trained_model/\")\n",
    "            \n",
    "            for target, target_sequence in cleaned_target_dict.items():\n",
    "                for _, drug_row in drug_df.iterrows():\n",
    "                    drug_name = drug_row['drug_names']\n",
    "                    drug_smiles = drug_row['drug_smiles']\n",
    "                    \n",
    "                    # Compute the dti_score using the test function\n",
    "                    dti_score = test(test_model, drug_smiles, target_sequence)\n",
    "                    \n",
    "                    # Append the result to the list\n",
    "                    results.append({\n",
    "                        'drug_names': drug_name,\n",
    "                        'drug_smiles': drug_smiles,\n",
    "                        'model': model_name,\n",
    "                        'fold': fold,\n",
    "                        'target': target,\n",
    "                        'DTI_score': dti_score\n",
    "                    })\n",
    "                    \n",
    "                    # Update the progress bar\n",
    "                    pbar.update(1)\n"
   ]
  },
  {
   "cell_type": "code",
   "execution_count": 14,
   "metadata": {},
   "outputs": [],
   "source": [
    "results_df = pd.DataFrame(results)"
   ]
  },
  {
   "cell_type": "code",
   "execution_count": 15,
   "metadata": {},
   "outputs": [],
   "source": [
    "results_df.to_csv('../../data/DTI_output.csv', index=False)"
   ]
  },
  {
   "cell_type": "code",
   "execution_count": null,
   "metadata": {},
   "outputs": [],
   "source": []
  }
 ],
 "metadata": {
  "kernelspec": {
   "display_name": "stroke_dti",
   "language": "python",
   "name": "python3"
  },
  "language_info": {
   "codemirror_mode": {
    "name": "ipython",
    "version": 3
   },
   "file_extension": ".py",
   "mimetype": "text/x-python",
   "name": "python",
   "nbconvert_exporter": "python",
   "pygments_lexer": "ipython3",
   "version": "3.11.4"
  }
 },
 "nbformat": 4,
 "nbformat_minor": 2
}
