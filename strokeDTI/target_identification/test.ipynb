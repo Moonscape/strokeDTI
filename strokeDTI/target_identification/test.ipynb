{
 "cells": [
  {
   "cell_type": "markdown",
   "metadata": {},
   "source": [
    "# Imports"
   ]
  },
  {
   "cell_type": "code",
   "execution_count": 2,
   "metadata": {},
   "outputs": [],
   "source": [
    "#Imports\n",
    "%reload_ext autoreload\n",
    "%autoreload 2\n",
    "\n",
    "import kaleido\n",
    "import plotly.express as px\n",
    "import numpy as np\n",
    "import random\n",
    "import plotly.io as pio\n",
    "import seaborn as sns\n",
    "\n",
    "from strokeDTI.target_identification.plot_merged_graph import *\n",
    "from strokeDTI.target_identification.pathway_merge import *"
   ]
  },
  {
   "cell_type": "markdown",
   "metadata": {},
   "source": [
    "# Process kegg pathways"
   ]
  },
  {
   "cell_type": "code",
   "execution_count": 5,
   "metadata": {},
   "outputs": [],
   "source": [
    "# Define a list of kegg pathways and a root directory\n",
    "kegg_path_list = ['04210', '04217','04910','04218','04972','04115', '04216'] \n",
    "root_path = '../../output/'\n",
    "species = 'mouse'\n",
    "rna_seq_path = '../../data/galaxy_mouse.tabular'"
   ]
  },
  {
   "cell_type": "code",
   "execution_count": 6,
   "metadata": {},
   "outputs": [
    {
     "name": "stderr",
     "output_type": "stream",
     "text": [
      "INFO: Reading existing CSV file: 'Apoptosis_mouse.csv'.\n",
      "INFO: Reading existing CSV file: 'Necroptosis_mouse.csv'.\n",
      "INFO: Reading existing CSV file: 'Insulin_signaling_pathway_mouse.csv'.\n",
      "INFO: Reading existing CSV file: 'Cellular_senescence_mouse.csv'.\n",
      "INFO: Reading existing CSV file: 'Pancreatic_secretion_mouse.csv'.\n",
      "INFO: Reading existing CSV file: 'p53_signaling_pathway_mouse.csv'.\n",
      "INFO: Reading existing CSV file: 'Ferroptosis_mouse.csv'.\n",
      "INFO: Renamed dataframe columns for clarity.\n",
      "INFO: Saved combined dataframe to 'combined_pathway_mouse.csv'.\n"
     ]
    }
   ],
   "source": [
    "combine_dataframes(root_path=root_path,pathway_list = kegg_path_list, species=species,save=True)"
   ]
  },
  {
   "cell_type": "code",
   "execution_count": 7,
   "metadata": {},
   "outputs": [],
   "source": [
    "combinedDf = combine_kegg_rna_seq(root_path,rna_seq_path,right_on = 'Gene name',species=species)"
   ]
  },
  {
   "cell_type": "code",
   "execution_count": 8,
   "metadata": {},
   "outputs": [
    {
     "ename": "ValueError",
     "evalue": "Mime type rendering requires nbformat>=4.2.0 but it is not installed",
     "output_type": "error",
     "traceback": [
      "\u001b[0;31m---------------------------------------------------------------------------\u001b[0m",
      "\u001b[0;31mValueError\u001b[0m                                Traceback (most recent call last)",
      "File \u001b[0;32m~/opt/miniconda3/envs/stroke_dti/lib/python3.13/site-packages/IPython/core/formatters.py:984\u001b[0m, in \u001b[0;36mIPythonDisplayFormatter.__call__\u001b[0;34m(self, obj)\u001b[0m\n\u001b[1;32m    982\u001b[0m method \u001b[38;5;241m=\u001b[39m get_real_method(obj, \u001b[38;5;28mself\u001b[39m\u001b[38;5;241m.\u001b[39mprint_method)\n\u001b[1;32m    983\u001b[0m \u001b[38;5;28;01mif\u001b[39;00m method \u001b[38;5;129;01mis\u001b[39;00m \u001b[38;5;129;01mnot\u001b[39;00m \u001b[38;5;28;01mNone\u001b[39;00m:\n\u001b[0;32m--> 984\u001b[0m     \u001b[43mmethod\u001b[49m\u001b[43m(\u001b[49m\u001b[43m)\u001b[49m\n\u001b[1;32m    985\u001b[0m     \u001b[38;5;28;01mreturn\u001b[39;00m \u001b[38;5;28;01mTrue\u001b[39;00m\n",
      "File \u001b[0;32m~/opt/miniconda3/envs/stroke_dti/lib/python3.13/site-packages/plotly/basedatatypes.py:832\u001b[0m, in \u001b[0;36mBaseFigure._ipython_display_\u001b[0;34m(self)\u001b[0m\n\u001b[1;32m    829\u001b[0m \u001b[38;5;28;01mimport\u001b[39;00m\u001b[38;5;250m \u001b[39m\u001b[38;5;21;01mplotly\u001b[39;00m\u001b[38;5;21;01m.\u001b[39;00m\u001b[38;5;21;01mio\u001b[39;00m\u001b[38;5;250m \u001b[39m\u001b[38;5;28;01mas\u001b[39;00m\u001b[38;5;250m \u001b[39m\u001b[38;5;21;01mpio\u001b[39;00m\n\u001b[1;32m    831\u001b[0m \u001b[38;5;28;01mif\u001b[39;00m pio\u001b[38;5;241m.\u001b[39mrenderers\u001b[38;5;241m.\u001b[39mrender_on_display \u001b[38;5;129;01mand\u001b[39;00m pio\u001b[38;5;241m.\u001b[39mrenderers\u001b[38;5;241m.\u001b[39mdefault:\n\u001b[0;32m--> 832\u001b[0m     \u001b[43mpio\u001b[49m\u001b[38;5;241;43m.\u001b[39;49m\u001b[43mshow\u001b[49m\u001b[43m(\u001b[49m\u001b[38;5;28;43mself\u001b[39;49m\u001b[43m)\u001b[49m\n\u001b[1;32m    833\u001b[0m \u001b[38;5;28;01melse\u001b[39;00m:\n\u001b[1;32m    834\u001b[0m     \u001b[38;5;28mprint\u001b[39m(\u001b[38;5;28mrepr\u001b[39m(\u001b[38;5;28mself\u001b[39m))\n",
      "File \u001b[0;32m~/opt/miniconda3/envs/stroke_dti/lib/python3.13/site-packages/plotly/io/_renderers.py:394\u001b[0m, in \u001b[0;36mshow\u001b[0;34m(fig, renderer, validate, **kwargs)\u001b[0m\n\u001b[1;32m    389\u001b[0m         \u001b[38;5;28;01mraise\u001b[39;00m \u001b[38;5;167;01mValueError\u001b[39;00m(\n\u001b[1;32m    390\u001b[0m             \u001b[38;5;124m\"\u001b[39m\u001b[38;5;124mMime type rendering requires ipython but it is not installed\u001b[39m\u001b[38;5;124m\"\u001b[39m\n\u001b[1;32m    391\u001b[0m         )\n\u001b[1;32m    393\u001b[0m     \u001b[38;5;28;01mif\u001b[39;00m \u001b[38;5;129;01mnot\u001b[39;00m nbformat \u001b[38;5;129;01mor\u001b[39;00m Version(nbformat\u001b[38;5;241m.\u001b[39m__version__) \u001b[38;5;241m<\u001b[39m Version(\u001b[38;5;124m\"\u001b[39m\u001b[38;5;124m4.2.0\u001b[39m\u001b[38;5;124m\"\u001b[39m):\n\u001b[0;32m--> 394\u001b[0m         \u001b[38;5;28;01mraise\u001b[39;00m \u001b[38;5;167;01mValueError\u001b[39;00m(\n\u001b[1;32m    395\u001b[0m             \u001b[38;5;124m\"\u001b[39m\u001b[38;5;124mMime type rendering requires nbformat>=4.2.0 but it is not installed\u001b[39m\u001b[38;5;124m\"\u001b[39m\n\u001b[1;32m    396\u001b[0m         )\n\u001b[1;32m    398\u001b[0m     ipython_display\u001b[38;5;241m.\u001b[39mdisplay(bundle, raw\u001b[38;5;241m=\u001b[39m\u001b[38;5;28;01mTrue\u001b[39;00m)\n\u001b[1;32m    400\u001b[0m \u001b[38;5;66;03m# external renderers\u001b[39;00m\n",
      "\u001b[0;31mValueError\u001b[0m: Mime type rendering requires nbformat>=4.2.0 but it is not installed"
     ]
    },
    {
     "data": {
      "application/vnd.plotly.v1+json": {
       "config": {
        "plotlyServerURL": "https://plot.ly"
       },
       "data": [
        {
         "hovertemplate": "pathway=Apoptosis<br>log2(FC)=%{r}<br>Gene name=%{theta}<extra></extra>",
         "legendgroup": "Apoptosis",
         "marker": {
          "color": "#9B5DE5",
          "line": {
           "color": "black",
           "width": 1
          },
          "pattern": {
           "shape": ""
          }
         },
         "name": "Apoptosis",
         "r": [
          1.223718056481,
          1.333516771313,
          3.65395532970239,
          1.32672135363299,
          2.06793363884155,
          3.14617573871078,
          1.10358348040686,
          1.59956434536012,
          1.16913911736748,
          1.26823636336922,
          2.45506660700845,
          3.63167704691438,
          2.99387060960981,
          1.41073647254516,
          2.80446970650047,
          2.63863799575164,
          2.82421341310592,
          1.69205290369479,
          2.45142103900093,
          1.2051295415092,
          1.6710380786755,
          1.35343627159484,
          1.42989257513457,
          1.7421065186917,
          1.47504981712236,
          1.86136662959477,
          1.61600080062398,
          2.35188658412225,
          1.29574768960406,
          3.85722414101424,
          2.13190239128528,
          1.45602460505397,
          2.40246913558935
         ],
         "showlegend": true,
         "subplot": "polar",
         "theta": [
          "Actb",
          "Birc3",
          "Birc5",
          "Bak1",
          "Bcl2a1a",
          "Bcl2a1b",
          "Bcl2l11",
          "Casp12",
          "Casp6",
          "Casp7",
          "Casp8",
          "Csf2rb",
          "Csf2rb2",
          "Ctsb",
          "Ctsc",
          "Ctsd",
          "Ctsh",
          "Ctsl",
          "Ctss",
          "Fadd",
          "Fas",
          "Il3ra",
          "Itpr3",
          "Lmnb1",
          "Ripk1",
          "Tnf",
          "Tnfrsf10b",
          "Tnfrsf1a",
          "Traf1",
          "Tuba1c",
          "Parp3",
          "Parp4",
          "Ctsz"
         ],
         "type": "barpolar"
        },
        {
         "hovertemplate": "pathway=Necroptosis<br>log2(FC)=%{r}<br>Gene name=%{theta}<extra></extra>",
         "legendgroup": "Necroptosis",
         "marker": {
          "color": "#F15BB5",
          "line": {
           "color": "black",
           "width": 1
          },
          "pattern": {
           "shape": ""
          }
         },
         "name": "Necroptosis",
         "r": [
          1.12623367806044,
          1.58435280846431,
          1.333516771313,
          1.03985185764945,
          2.45506660700845,
          3.22570369379313,
          1.2051295415092,
          1.6710380786755,
          1.09218056495297,
          1.40075184604585,
          1.52865287706332,
          1.24901322226848,
          1.7055163363817,
          2.05346619897735,
          1.2566491255978,
          1.47504981712236,
          1.26229123573847,
          1.78218721475157,
          1.61027626596156,
          1.55568645178286,
          1.86136662959477,
          1.61600080062398,
          2.35188658412225,
          3.23238932081186,
          2.70261782311005,
          1.77981488037088,
          2.06175341273379,
          1.27491986727099
         ],
         "showlegend": true,
         "subplot": "polar",
         "theta": [
          "Ticam1",
          "Pygl",
          "Birc3",
          "Casp1",
          "Casp8",
          "Cybb",
          "Fadd",
          "Fas",
          "Ifnar2",
          "Ifngr1",
          "Il1b",
          "Irf9",
          "Jak3",
          "Pla2g4a",
          "Eif2ak2",
          "Ripk1",
          "Stat3",
          "Stat5a",
          "Nlrp3",
          "Tlr4",
          "Tnf",
          "Tnfrsf10b",
          "Tnfrsf1a",
          "Ticam2",
          "Ripk3",
          "Zbp1",
          "Pycard",
          "Mlkl"
         ],
         "type": "barpolar"
        },
        {
         "hovertemplate": "pathway=Insulin_signaling_pathway<br>log2(FC)=%{r}<br>Gene name=%{theta}<extra></extra>",
         "legendgroup": "Insulin_signaling_pathway",
         "marker": {
          "color": "#FEE440",
          "line": {
           "color": "black",
           "width": 1
          },
          "pattern": {
           "shape": ""
          }
         },
         "name": "Insulin_signaling_pathway",
         "r": [
          1.58435280846431,
          -1.00951901326021,
          1.87077067432295,
          2.51721977760524,
          1.44379282178589,
          2.25171920091514,
          -1.07475848000792,
          1.85730001001762
         ],
         "showlegend": true,
         "subplot": "polar",
         "theta": [
          "Pygl",
          "Calm3",
          "Socs3",
          "Hk2",
          "Shc1",
          "Hk3",
          "Hkdc1",
          "Ppp1r3b"
         ],
         "type": "barpolar"
        },
        {
         "hovertemplate": "pathway=Cellular_senescence<br>log2(FC)=%{r}<br>Gene name=%{theta}<extra></extra>",
         "legendgroup": "Cellular_senescence",
         "marker": {
          "color": "#00BBF9",
          "line": {
           "color": "black",
           "width": 1
          },
          "pattern": {
           "shape": ""
          }
         },
         "name": "Cellular_senescence",
         "r": [
          1.37421196262658,
          1.47826566246636,
          -1.00951901326021,
          -1.10620864329916,
          2.42646595098645,
          2.92640356617001,
          1.67514143737811,
          5.35390565748335,
          1.37161880718702,
          1.47241514631506,
          1.33565808369793,
          2.26750891530856,
          1.34647915989999,
          3.20470539483375,
          1.43589702440524,
          1.99414177352639,
          1.2245999842892,
          1.06321942162928,
          1.7969822937757,
          1.42989257513457,
          1.3770260970161,
          1.48212941327772,
          4.41530627978736,
          1.98187291239947,
          2.15462713805186,
          1.47753473615196,
          1.31537286236848,
          -1.16892096834177,
          1.24003252408045,
          1.53004550724432,
          2.25626396666169,
          1.99414177352639,
          1.19162135794197,
          1.43198038339313
         ],
         "showlegend": true,
         "subplot": "polar",
         "theta": [
          "Zfp36l1",
          "Zfp36l2",
          "Calm3",
          "Ccna1",
          "Ccna2",
          "Ccnb2",
          "Ccnd1",
          "Cdk1",
          "Cdk2",
          "Cdk6",
          "Cdkn1a",
          "Cdkn2a",
          "Chek1",
          "Foxm1",
          "H2-D1",
          "H2-K1",
          "H2-Q4",
          "H2-Q7",
          "Igfbp3",
          "Itpr3",
          "Mybl2",
          "Nfatc1",
          "Serpine1",
          "Rbl1",
          "Tgfb1",
          "Tgfbr2",
          "Ets1",
          "H2-M5",
          "E2f2",
          "Ccnb1",
          "Chek2",
          "H2-K1",
          "Trpv4",
          "Nfatc4"
         ],
         "type": "barpolar"
        },
        {
         "hovertemplate": "pathway=Pancreatic_secretion<br>log2(FC)=%{r}<br>Gene name=%{theta}<extra></extra>",
         "legendgroup": "Pancreatic_secretion",
         "marker": {
          "color": "#00F5D4",
          "line": {
           "color": "black",
           "width": 1
          },
          "pattern": {
           "shape": ""
          }
         },
         "name": "Pancreatic_secretion",
         "r": [
          1.8045471611232,
          1.37789365042072,
          -1.06416077119103,
          1.87262598060195,
          1.9106184427899,
          1.42989257513457,
          1.69808632289195,
          1.98405495253221,
          1.3974513377505,
          1.33555791252717,
          1.62034064622034
         ],
         "showlegend": true,
         "subplot": "polar",
         "theta": [
          "Adcy4",
          "Adcy7",
          "Adcy8",
          "Bst1",
          "Cd38",
          "Itpr3",
          "Kcnq1",
          "Plcb2",
          "Plcb3",
          "Tpcn2",
          "Atp1a4"
         ],
         "type": "barpolar"
        },
        {
         "hovertemplate": "pathway=p53_signaling_pathway<br>log2(FC)=%{r}<br>Gene name=%{theta}<extra></extra>",
         "legendgroup": "p53_signaling_pathway",
         "marker": {
          "color": "#F7EDE2",
          "line": {
           "color": "black",
           "width": 1
          },
          "pattern": {
           "shape": ""
          }
         },
         "name": "p53_signaling_pathway",
         "r": [
          2.45506660700845,
          2.92640356617001,
          1.67514143737811,
          1.24601006018148,
          5.35390565748335,
          1.37161880718702,
          1.47241514631506,
          1.33565808369793,
          2.26750891530856,
          1.34647915989999,
          1.6710380786755,
          1.23762803114132,
          1.7969822937757,
          4.41530627978736,
          3.7709587076231,
          3.25404539166664,
          1.61600080062398,
          1.53004550724432,
          2.10426584228827,
          2.25626396666169,
          2.1987107111517
         ],
         "showlegend": true,
         "subplot": "polar",
         "theta": [
          "Casp8",
          "Ccnb2",
          "Ccnd1",
          "Cd82",
          "Cdk1",
          "Cdk2",
          "Cdk6",
          "Cdkn1a",
          "Cdkn2a",
          "Chek1",
          "Fas",
          "Igf1",
          "Igfbp3",
          "Serpine1",
          "Rrm2",
          "Thbs1",
          "Tnfrsf10b",
          "Ccnb1",
          "Gtse1",
          "Chek2",
          "Steap3"
         ],
         "type": "barpolar"
        },
        {
         "hovertemplate": "pathway=Ferroptosis<br>log2(FC)=%{r}<br>Gene name=%{theta}<extra></extra>",
         "legendgroup": "Ferroptosis",
         "marker": {
          "color": "#F5CAC3",
          "line": {
           "color": "black",
           "width": 1
          },
          "pattern": {
           "shape": ""
          }
         },
         "name": "Ferroptosis",
         "r": [
          1.84869665669047,
          3.22570369379313,
          4.6628029630026,
          2.11361203509868,
          2.1987107111517
         ],
         "showlegend": true,
         "subplot": "polar",
         "theta": [
          "Cp",
          "Cybb",
          "Hmox1",
          "Trf",
          "Steap3"
         ],
         "type": "barpolar"
        }
       ],
       "layout": {
        "barmode": "relative",
        "height": 1200,
        "legend": {
         "title": {
          "text": "pathway"
         },
         "tracegroupgap": 0
        },
        "margin": {
         "t": 60
        },
        "polar": {
         "angularaxis": {
          "direction": "clockwise",
          "rotation": 90
         },
         "domain": {
          "x": [
           0,
           1
          ],
          "y": [
           0,
           1
          ]
         }
        },
        "showlegend": true,
        "template": {
         "data": {
          "bar": [
           {
            "error_x": {
             "color": "#2a3f5f"
            },
            "error_y": {
             "color": "#2a3f5f"
            },
            "marker": {
             "line": {
              "color": "white",
              "width": 0.5
             },
             "pattern": {
              "fillmode": "overlay",
              "size": 10,
              "solidity": 0.2
             }
            },
            "type": "bar"
           }
          ],
          "barpolar": [
           {
            "marker": {
             "line": {
              "color": "white",
              "width": 0.5
             },
             "pattern": {
              "fillmode": "overlay",
              "size": 10,
              "solidity": 0.2
             }
            },
            "type": "barpolar"
           }
          ],
          "carpet": [
           {
            "aaxis": {
             "endlinecolor": "#2a3f5f",
             "gridcolor": "#C8D4E3",
             "linecolor": "#C8D4E3",
             "minorgridcolor": "#C8D4E3",
             "startlinecolor": "#2a3f5f"
            },
            "baxis": {
             "endlinecolor": "#2a3f5f",
             "gridcolor": "#C8D4E3",
             "linecolor": "#C8D4E3",
             "minorgridcolor": "#C8D4E3",
             "startlinecolor": "#2a3f5f"
            },
            "type": "carpet"
           }
          ],
          "choropleth": [
           {
            "colorbar": {
             "outlinewidth": 0,
             "ticks": ""
            },
            "type": "choropleth"
           }
          ],
          "contour": [
           {
            "colorbar": {
             "outlinewidth": 0,
             "ticks": ""
            },
            "colorscale": [
             [
              0,
              "#0d0887"
             ],
             [
              0.1111111111111111,
              "#46039f"
             ],
             [
              0.2222222222222222,
              "#7201a8"
             ],
             [
              0.3333333333333333,
              "#9c179e"
             ],
             [
              0.4444444444444444,
              "#bd3786"
             ],
             [
              0.5555555555555556,
              "#d8576b"
             ],
             [
              0.6666666666666666,
              "#ed7953"
             ],
             [
              0.7777777777777778,
              "#fb9f3a"
             ],
             [
              0.8888888888888888,
              "#fdca26"
             ],
             [
              1,
              "#f0f921"
             ]
            ],
            "type": "contour"
           }
          ],
          "contourcarpet": [
           {
            "colorbar": {
             "outlinewidth": 0,
             "ticks": ""
            },
            "type": "contourcarpet"
           }
          ],
          "heatmap": [
           {
            "colorbar": {
             "outlinewidth": 0,
             "ticks": ""
            },
            "colorscale": [
             [
              0,
              "#0d0887"
             ],
             [
              0.1111111111111111,
              "#46039f"
             ],
             [
              0.2222222222222222,
              "#7201a8"
             ],
             [
              0.3333333333333333,
              "#9c179e"
             ],
             [
              0.4444444444444444,
              "#bd3786"
             ],
             [
              0.5555555555555556,
              "#d8576b"
             ],
             [
              0.6666666666666666,
              "#ed7953"
             ],
             [
              0.7777777777777778,
              "#fb9f3a"
             ],
             [
              0.8888888888888888,
              "#fdca26"
             ],
             [
              1,
              "#f0f921"
             ]
            ],
            "type": "heatmap"
           }
          ],
          "heatmapgl": [
           {
            "colorbar": {
             "outlinewidth": 0,
             "ticks": ""
            },
            "colorscale": [
             [
              0,
              "#0d0887"
             ],
             [
              0.1111111111111111,
              "#46039f"
             ],
             [
              0.2222222222222222,
              "#7201a8"
             ],
             [
              0.3333333333333333,
              "#9c179e"
             ],
             [
              0.4444444444444444,
              "#bd3786"
             ],
             [
              0.5555555555555556,
              "#d8576b"
             ],
             [
              0.6666666666666666,
              "#ed7953"
             ],
             [
              0.7777777777777778,
              "#fb9f3a"
             ],
             [
              0.8888888888888888,
              "#fdca26"
             ],
             [
              1,
              "#f0f921"
             ]
            ],
            "type": "heatmapgl"
           }
          ],
          "histogram": [
           {
            "marker": {
             "pattern": {
              "fillmode": "overlay",
              "size": 10,
              "solidity": 0.2
             }
            },
            "type": "histogram"
           }
          ],
          "histogram2d": [
           {
            "colorbar": {
             "outlinewidth": 0,
             "ticks": ""
            },
            "colorscale": [
             [
              0,
              "#0d0887"
             ],
             [
              0.1111111111111111,
              "#46039f"
             ],
             [
              0.2222222222222222,
              "#7201a8"
             ],
             [
              0.3333333333333333,
              "#9c179e"
             ],
             [
              0.4444444444444444,
              "#bd3786"
             ],
             [
              0.5555555555555556,
              "#d8576b"
             ],
             [
              0.6666666666666666,
              "#ed7953"
             ],
             [
              0.7777777777777778,
              "#fb9f3a"
             ],
             [
              0.8888888888888888,
              "#fdca26"
             ],
             [
              1,
              "#f0f921"
             ]
            ],
            "type": "histogram2d"
           }
          ],
          "histogram2dcontour": [
           {
            "colorbar": {
             "outlinewidth": 0,
             "ticks": ""
            },
            "colorscale": [
             [
              0,
              "#0d0887"
             ],
             [
              0.1111111111111111,
              "#46039f"
             ],
             [
              0.2222222222222222,
              "#7201a8"
             ],
             [
              0.3333333333333333,
              "#9c179e"
             ],
             [
              0.4444444444444444,
              "#bd3786"
             ],
             [
              0.5555555555555556,
              "#d8576b"
             ],
             [
              0.6666666666666666,
              "#ed7953"
             ],
             [
              0.7777777777777778,
              "#fb9f3a"
             ],
             [
              0.8888888888888888,
              "#fdca26"
             ],
             [
              1,
              "#f0f921"
             ]
            ],
            "type": "histogram2dcontour"
           }
          ],
          "mesh3d": [
           {
            "colorbar": {
             "outlinewidth": 0,
             "ticks": ""
            },
            "type": "mesh3d"
           }
          ],
          "parcoords": [
           {
            "line": {
             "colorbar": {
              "outlinewidth": 0,
              "ticks": ""
             }
            },
            "type": "parcoords"
           }
          ],
          "pie": [
           {
            "automargin": true,
            "type": "pie"
           }
          ],
          "scatter": [
           {
            "fillpattern": {
             "fillmode": "overlay",
             "size": 10,
             "solidity": 0.2
            },
            "type": "scatter"
           }
          ],
          "scatter3d": [
           {
            "line": {
             "colorbar": {
              "outlinewidth": 0,
              "ticks": ""
             }
            },
            "marker": {
             "colorbar": {
              "outlinewidth": 0,
              "ticks": ""
             }
            },
            "type": "scatter3d"
           }
          ],
          "scattercarpet": [
           {
            "marker": {
             "colorbar": {
              "outlinewidth": 0,
              "ticks": ""
             }
            },
            "type": "scattercarpet"
           }
          ],
          "scattergeo": [
           {
            "marker": {
             "colorbar": {
              "outlinewidth": 0,
              "ticks": ""
             }
            },
            "type": "scattergeo"
           }
          ],
          "scattergl": [
           {
            "marker": {
             "colorbar": {
              "outlinewidth": 0,
              "ticks": ""
             }
            },
            "type": "scattergl"
           }
          ],
          "scattermapbox": [
           {
            "marker": {
             "colorbar": {
              "outlinewidth": 0,
              "ticks": ""
             }
            },
            "type": "scattermapbox"
           }
          ],
          "scatterpolar": [
           {
            "marker": {
             "colorbar": {
              "outlinewidth": 0,
              "ticks": ""
             }
            },
            "type": "scatterpolar"
           }
          ],
          "scatterpolargl": [
           {
            "marker": {
             "colorbar": {
              "outlinewidth": 0,
              "ticks": ""
             }
            },
            "type": "scatterpolargl"
           }
          ],
          "scatterternary": [
           {
            "marker": {
             "colorbar": {
              "outlinewidth": 0,
              "ticks": ""
             }
            },
            "type": "scatterternary"
           }
          ],
          "surface": [
           {
            "colorbar": {
             "outlinewidth": 0,
             "ticks": ""
            },
            "colorscale": [
             [
              0,
              "#0d0887"
             ],
             [
              0.1111111111111111,
              "#46039f"
             ],
             [
              0.2222222222222222,
              "#7201a8"
             ],
             [
              0.3333333333333333,
              "#9c179e"
             ],
             [
              0.4444444444444444,
              "#bd3786"
             ],
             [
              0.5555555555555556,
              "#d8576b"
             ],
             [
              0.6666666666666666,
              "#ed7953"
             ],
             [
              0.7777777777777778,
              "#fb9f3a"
             ],
             [
              0.8888888888888888,
              "#fdca26"
             ],
             [
              1,
              "#f0f921"
             ]
            ],
            "type": "surface"
           }
          ],
          "table": [
           {
            "cells": {
             "fill": {
              "color": "#EBF0F8"
             },
             "line": {
              "color": "white"
             }
            },
            "header": {
             "fill": {
              "color": "#C8D4E3"
             },
             "line": {
              "color": "white"
             }
            },
            "type": "table"
           }
          ]
         },
         "layout": {
          "annotationdefaults": {
           "arrowcolor": "#2a3f5f",
           "arrowhead": 0,
           "arrowwidth": 1
          },
          "autotypenumbers": "strict",
          "coloraxis": {
           "colorbar": {
            "outlinewidth": 0,
            "ticks": ""
           }
          },
          "colorscale": {
           "diverging": [
            [
             0,
             "#8e0152"
            ],
            [
             0.1,
             "#c51b7d"
            ],
            [
             0.2,
             "#de77ae"
            ],
            [
             0.3,
             "#f1b6da"
            ],
            [
             0.4,
             "#fde0ef"
            ],
            [
             0.5,
             "#f7f7f7"
            ],
            [
             0.6,
             "#e6f5d0"
            ],
            [
             0.7,
             "#b8e186"
            ],
            [
             0.8,
             "#7fbc41"
            ],
            [
             0.9,
             "#4d9221"
            ],
            [
             1,
             "#276419"
            ]
           ],
           "sequential": [
            [
             0,
             "#0d0887"
            ],
            [
             0.1111111111111111,
             "#46039f"
            ],
            [
             0.2222222222222222,
             "#7201a8"
            ],
            [
             0.3333333333333333,
             "#9c179e"
            ],
            [
             0.4444444444444444,
             "#bd3786"
            ],
            [
             0.5555555555555556,
             "#d8576b"
            ],
            [
             0.6666666666666666,
             "#ed7953"
            ],
            [
             0.7777777777777778,
             "#fb9f3a"
            ],
            [
             0.8888888888888888,
             "#fdca26"
            ],
            [
             1,
             "#f0f921"
            ]
           ],
           "sequentialminus": [
            [
             0,
             "#0d0887"
            ],
            [
             0.1111111111111111,
             "#46039f"
            ],
            [
             0.2222222222222222,
             "#7201a8"
            ],
            [
             0.3333333333333333,
             "#9c179e"
            ],
            [
             0.4444444444444444,
             "#bd3786"
            ],
            [
             0.5555555555555556,
             "#d8576b"
            ],
            [
             0.6666666666666666,
             "#ed7953"
            ],
            [
             0.7777777777777778,
             "#fb9f3a"
            ],
            [
             0.8888888888888888,
             "#fdca26"
            ],
            [
             1,
             "#f0f921"
            ]
           ]
          },
          "colorway": [
           "#636efa",
           "#EF553B",
           "#00cc96",
           "#ab63fa",
           "#FFA15A",
           "#19d3f3",
           "#FF6692",
           "#B6E880",
           "#FF97FF",
           "#FECB52"
          ],
          "font": {
           "color": "#2a3f5f"
          },
          "geo": {
           "bgcolor": "white",
           "lakecolor": "white",
           "landcolor": "white",
           "showlakes": true,
           "showland": true,
           "subunitcolor": "#C8D4E3"
          },
          "hoverlabel": {
           "align": "left"
          },
          "hovermode": "closest",
          "mapbox": {
           "style": "light"
          },
          "paper_bgcolor": "white",
          "plot_bgcolor": "white",
          "polar": {
           "angularaxis": {
            "gridcolor": "#EBF0F8",
            "linecolor": "#EBF0F8",
            "ticks": ""
           },
           "bgcolor": "white",
           "radialaxis": {
            "gridcolor": "#EBF0F8",
            "linecolor": "#EBF0F8",
            "ticks": ""
           }
          },
          "scene": {
           "xaxis": {
            "backgroundcolor": "white",
            "gridcolor": "#DFE8F3",
            "gridwidth": 2,
            "linecolor": "#EBF0F8",
            "showbackground": true,
            "ticks": "",
            "zerolinecolor": "#EBF0F8"
           },
           "yaxis": {
            "backgroundcolor": "white",
            "gridcolor": "#DFE8F3",
            "gridwidth": 2,
            "linecolor": "#EBF0F8",
            "showbackground": true,
            "ticks": "",
            "zerolinecolor": "#EBF0F8"
           },
           "zaxis": {
            "backgroundcolor": "white",
            "gridcolor": "#DFE8F3",
            "gridwidth": 2,
            "linecolor": "#EBF0F8",
            "showbackground": true,
            "ticks": "",
            "zerolinecolor": "#EBF0F8"
           }
          },
          "shapedefaults": {
           "line": {
            "color": "#2a3f5f"
           }
          },
          "ternary": {
           "aaxis": {
            "gridcolor": "#DFE8F3",
            "linecolor": "#A2B1C6",
            "ticks": ""
           },
           "baxis": {
            "gridcolor": "#DFE8F3",
            "linecolor": "#A2B1C6",
            "ticks": ""
           },
           "bgcolor": "white",
           "caxis": {
            "gridcolor": "#DFE8F3",
            "linecolor": "#A2B1C6",
            "ticks": ""
           }
          },
          "title": {
           "x": 0.05
          },
          "xaxis": {
           "automargin": true,
           "gridcolor": "#EBF0F8",
           "linecolor": "#EBF0F8",
           "ticks": "",
           "title": {
            "standoff": 15
           },
           "zerolinecolor": "#EBF0F8",
           "zerolinewidth": 2
          },
          "yaxis": {
           "automargin": true,
           "gridcolor": "#EBF0F8",
           "linecolor": "#EBF0F8",
           "ticks": "",
           "title": {
            "standoff": 15
           },
           "zerolinecolor": "#EBF0F8",
           "zerolinewidth": 2
          }
         }
        },
        "width": 1200
       }
      },
      "text/html": [
       "<div>                        <script type=\"text/javascript\">window.PlotlyConfig = {MathJaxConfig: 'local'};</script>\n",
       "        <script charset=\"utf-8\" src=\"https://cdn.plot.ly/plotly-2.35.2.min.js\"></script>                <div id=\"9c8ccc36-56f3-408e-b0bd-8fa92de45c1b\" class=\"plotly-graph-div\" style=\"height:1200px; width:1200px;\"></div>            <script type=\"text/javascript\">                                    window.PLOTLYENV=window.PLOTLYENV || {};                                    if (document.getElementById(\"9c8ccc36-56f3-408e-b0bd-8fa92de45c1b\")) {                    Plotly.newPlot(                        \"9c8ccc36-56f3-408e-b0bd-8fa92de45c1b\",                        [{\"hovertemplate\":\"pathway=Apoptosis\\u003cbr\\u003elog2(FC)=%{r}\\u003cbr\\u003eGene name=%{theta}\\u003cextra\\u003e\\u003c\\u002fextra\\u003e\",\"legendgroup\":\"Apoptosis\",\"marker\":{\"color\":\"#9B5DE5\",\"pattern\":{\"shape\":\"\"},\"line\":{\"color\":\"black\",\"width\":1}},\"name\":\"Apoptosis\",\"r\":[1.223718056481,1.333516771313,3.65395532970239,1.32672135363299,2.06793363884155,3.14617573871078,1.10358348040686,1.59956434536012,1.16913911736748,1.26823636336922,2.45506660700845,3.63167704691438,2.99387060960981,1.41073647254516,2.80446970650047,2.63863799575164,2.82421341310592,1.69205290369479,2.45142103900093,1.2051295415092,1.6710380786755,1.35343627159484,1.42989257513457,1.7421065186917,1.47504981712236,1.86136662959477,1.61600080062398,2.35188658412225,1.29574768960406,3.85722414101424,2.13190239128528,1.45602460505397,2.40246913558935],\"showlegend\":true,\"subplot\":\"polar\",\"theta\":[\"Actb\",\"Birc3\",\"Birc5\",\"Bak1\",\"Bcl2a1a\",\"Bcl2a1b\",\"Bcl2l11\",\"Casp12\",\"Casp6\",\"Casp7\",\"Casp8\",\"Csf2rb\",\"Csf2rb2\",\"Ctsb\",\"Ctsc\",\"Ctsd\",\"Ctsh\",\"Ctsl\",\"Ctss\",\"Fadd\",\"Fas\",\"Il3ra\",\"Itpr3\",\"Lmnb1\",\"Ripk1\",\"Tnf\",\"Tnfrsf10b\",\"Tnfrsf1a\",\"Traf1\",\"Tuba1c\",\"Parp3\",\"Parp4\",\"Ctsz\"],\"type\":\"barpolar\"},{\"hovertemplate\":\"pathway=Necroptosis\\u003cbr\\u003elog2(FC)=%{r}\\u003cbr\\u003eGene name=%{theta}\\u003cextra\\u003e\\u003c\\u002fextra\\u003e\",\"legendgroup\":\"Necroptosis\",\"marker\":{\"color\":\"#F15BB5\",\"pattern\":{\"shape\":\"\"},\"line\":{\"color\":\"black\",\"width\":1}},\"name\":\"Necroptosis\",\"r\":[1.12623367806044,1.58435280846431,1.333516771313,1.03985185764945,2.45506660700845,3.22570369379313,1.2051295415092,1.6710380786755,1.09218056495297,1.40075184604585,1.52865287706332,1.24901322226848,1.7055163363817,2.05346619897735,1.2566491255978,1.47504981712236,1.26229123573847,1.78218721475157,1.61027626596156,1.55568645178286,1.86136662959477,1.61600080062398,2.35188658412225,3.23238932081186,2.70261782311005,1.77981488037088,2.06175341273379,1.27491986727099],\"showlegend\":true,\"subplot\":\"polar\",\"theta\":[\"Ticam1\",\"Pygl\",\"Birc3\",\"Casp1\",\"Casp8\",\"Cybb\",\"Fadd\",\"Fas\",\"Ifnar2\",\"Ifngr1\",\"Il1b\",\"Irf9\",\"Jak3\",\"Pla2g4a\",\"Eif2ak2\",\"Ripk1\",\"Stat3\",\"Stat5a\",\"Nlrp3\",\"Tlr4\",\"Tnf\",\"Tnfrsf10b\",\"Tnfrsf1a\",\"Ticam2\",\"Ripk3\",\"Zbp1\",\"Pycard\",\"Mlkl\"],\"type\":\"barpolar\"},{\"hovertemplate\":\"pathway=Insulin_signaling_pathway\\u003cbr\\u003elog2(FC)=%{r}\\u003cbr\\u003eGene name=%{theta}\\u003cextra\\u003e\\u003c\\u002fextra\\u003e\",\"legendgroup\":\"Insulin_signaling_pathway\",\"marker\":{\"color\":\"#FEE440\",\"pattern\":{\"shape\":\"\"},\"line\":{\"color\":\"black\",\"width\":1}},\"name\":\"Insulin_signaling_pathway\",\"r\":[1.58435280846431,-1.00951901326021,1.87077067432295,2.51721977760524,1.44379282178589,2.25171920091514,-1.07475848000792,1.85730001001762],\"showlegend\":true,\"subplot\":\"polar\",\"theta\":[\"Pygl\",\"Calm3\",\"Socs3\",\"Hk2\",\"Shc1\",\"Hk3\",\"Hkdc1\",\"Ppp1r3b\"],\"type\":\"barpolar\"},{\"hovertemplate\":\"pathway=Cellular_senescence\\u003cbr\\u003elog2(FC)=%{r}\\u003cbr\\u003eGene name=%{theta}\\u003cextra\\u003e\\u003c\\u002fextra\\u003e\",\"legendgroup\":\"Cellular_senescence\",\"marker\":{\"color\":\"#00BBF9\",\"pattern\":{\"shape\":\"\"},\"line\":{\"color\":\"black\",\"width\":1}},\"name\":\"Cellular_senescence\",\"r\":[1.37421196262658,1.47826566246636,-1.00951901326021,-1.10620864329916,2.42646595098645,2.92640356617001,1.67514143737811,5.35390565748335,1.37161880718702,1.47241514631506,1.33565808369793,2.26750891530856,1.34647915989999,3.20470539483375,1.43589702440524,1.99414177352639,1.2245999842892,1.06321942162928,1.7969822937757,1.42989257513457,1.3770260970161,1.48212941327772,4.41530627978736,1.98187291239947,2.15462713805186,1.47753473615196,1.31537286236848,-1.16892096834177,1.24003252408045,1.53004550724432,2.25626396666169,1.99414177352639,1.19162135794197,1.43198038339313],\"showlegend\":true,\"subplot\":\"polar\",\"theta\":[\"Zfp36l1\",\"Zfp36l2\",\"Calm3\",\"Ccna1\",\"Ccna2\",\"Ccnb2\",\"Ccnd1\",\"Cdk1\",\"Cdk2\",\"Cdk6\",\"Cdkn1a\",\"Cdkn2a\",\"Chek1\",\"Foxm1\",\"H2-D1\",\"H2-K1\",\"H2-Q4\",\"H2-Q7\",\"Igfbp3\",\"Itpr3\",\"Mybl2\",\"Nfatc1\",\"Serpine1\",\"Rbl1\",\"Tgfb1\",\"Tgfbr2\",\"Ets1\",\"H2-M5\",\"E2f2\",\"Ccnb1\",\"Chek2\",\"H2-K1\",\"Trpv4\",\"Nfatc4\"],\"type\":\"barpolar\"},{\"hovertemplate\":\"pathway=Pancreatic_secretion\\u003cbr\\u003elog2(FC)=%{r}\\u003cbr\\u003eGene name=%{theta}\\u003cextra\\u003e\\u003c\\u002fextra\\u003e\",\"legendgroup\":\"Pancreatic_secretion\",\"marker\":{\"color\":\"#00F5D4\",\"pattern\":{\"shape\":\"\"},\"line\":{\"color\":\"black\",\"width\":1}},\"name\":\"Pancreatic_secretion\",\"r\":[1.8045471611232,1.37789365042072,-1.06416077119103,1.87262598060195,1.9106184427899,1.42989257513457,1.69808632289195,1.98405495253221,1.3974513377505,1.33555791252717,1.62034064622034],\"showlegend\":true,\"subplot\":\"polar\",\"theta\":[\"Adcy4\",\"Adcy7\",\"Adcy8\",\"Bst1\",\"Cd38\",\"Itpr3\",\"Kcnq1\",\"Plcb2\",\"Plcb3\",\"Tpcn2\",\"Atp1a4\"],\"type\":\"barpolar\"},{\"hovertemplate\":\"pathway=p53_signaling_pathway\\u003cbr\\u003elog2(FC)=%{r}\\u003cbr\\u003eGene name=%{theta}\\u003cextra\\u003e\\u003c\\u002fextra\\u003e\",\"legendgroup\":\"p53_signaling_pathway\",\"marker\":{\"color\":\"#F7EDE2\",\"pattern\":{\"shape\":\"\"},\"line\":{\"color\":\"black\",\"width\":1}},\"name\":\"p53_signaling_pathway\",\"r\":[2.45506660700845,2.92640356617001,1.67514143737811,1.24601006018148,5.35390565748335,1.37161880718702,1.47241514631506,1.33565808369793,2.26750891530856,1.34647915989999,1.6710380786755,1.23762803114132,1.7969822937757,4.41530627978736,3.7709587076231,3.25404539166664,1.61600080062398,1.53004550724432,2.10426584228827,2.25626396666169,2.1987107111517],\"showlegend\":true,\"subplot\":\"polar\",\"theta\":[\"Casp8\",\"Ccnb2\",\"Ccnd1\",\"Cd82\",\"Cdk1\",\"Cdk2\",\"Cdk6\",\"Cdkn1a\",\"Cdkn2a\",\"Chek1\",\"Fas\",\"Igf1\",\"Igfbp3\",\"Serpine1\",\"Rrm2\",\"Thbs1\",\"Tnfrsf10b\",\"Ccnb1\",\"Gtse1\",\"Chek2\",\"Steap3\"],\"type\":\"barpolar\"},{\"hovertemplate\":\"pathway=Ferroptosis\\u003cbr\\u003elog2(FC)=%{r}\\u003cbr\\u003eGene name=%{theta}\\u003cextra\\u003e\\u003c\\u002fextra\\u003e\",\"legendgroup\":\"Ferroptosis\",\"marker\":{\"color\":\"#F5CAC3\",\"pattern\":{\"shape\":\"\"},\"line\":{\"color\":\"black\",\"width\":1}},\"name\":\"Ferroptosis\",\"r\":[1.84869665669047,3.22570369379313,4.6628029630026,2.11361203509868,2.1987107111517],\"showlegend\":true,\"subplot\":\"polar\",\"theta\":[\"Cp\",\"Cybb\",\"Hmox1\",\"Trf\",\"Steap3\"],\"type\":\"barpolar\"}],                        {\"template\":{\"data\":{\"barpolar\":[{\"marker\":{\"line\":{\"color\":\"white\",\"width\":0.5},\"pattern\":{\"fillmode\":\"overlay\",\"size\":10,\"solidity\":0.2}},\"type\":\"barpolar\"}],\"bar\":[{\"error_x\":{\"color\":\"#2a3f5f\"},\"error_y\":{\"color\":\"#2a3f5f\"},\"marker\":{\"line\":{\"color\":\"white\",\"width\":0.5},\"pattern\":{\"fillmode\":\"overlay\",\"size\":10,\"solidity\":0.2}},\"type\":\"bar\"}],\"carpet\":[{\"aaxis\":{\"endlinecolor\":\"#2a3f5f\",\"gridcolor\":\"#C8D4E3\",\"linecolor\":\"#C8D4E3\",\"minorgridcolor\":\"#C8D4E3\",\"startlinecolor\":\"#2a3f5f\"},\"baxis\":{\"endlinecolor\":\"#2a3f5f\",\"gridcolor\":\"#C8D4E3\",\"linecolor\":\"#C8D4E3\",\"minorgridcolor\":\"#C8D4E3\",\"startlinecolor\":\"#2a3f5f\"},\"type\":\"carpet\"}],\"choropleth\":[{\"colorbar\":{\"outlinewidth\":0,\"ticks\":\"\"},\"type\":\"choropleth\"}],\"contourcarpet\":[{\"colorbar\":{\"outlinewidth\":0,\"ticks\":\"\"},\"type\":\"contourcarpet\"}],\"contour\":[{\"colorbar\":{\"outlinewidth\":0,\"ticks\":\"\"},\"colorscale\":[[0.0,\"#0d0887\"],[0.1111111111111111,\"#46039f\"],[0.2222222222222222,\"#7201a8\"],[0.3333333333333333,\"#9c179e\"],[0.4444444444444444,\"#bd3786\"],[0.5555555555555556,\"#d8576b\"],[0.6666666666666666,\"#ed7953\"],[0.7777777777777778,\"#fb9f3a\"],[0.8888888888888888,\"#fdca26\"],[1.0,\"#f0f921\"]],\"type\":\"contour\"}],\"heatmapgl\":[{\"colorbar\":{\"outlinewidth\":0,\"ticks\":\"\"},\"colorscale\":[[0.0,\"#0d0887\"],[0.1111111111111111,\"#46039f\"],[0.2222222222222222,\"#7201a8\"],[0.3333333333333333,\"#9c179e\"],[0.4444444444444444,\"#bd3786\"],[0.5555555555555556,\"#d8576b\"],[0.6666666666666666,\"#ed7953\"],[0.7777777777777778,\"#fb9f3a\"],[0.8888888888888888,\"#fdca26\"],[1.0,\"#f0f921\"]],\"type\":\"heatmapgl\"}],\"heatmap\":[{\"colorbar\":{\"outlinewidth\":0,\"ticks\":\"\"},\"colorscale\":[[0.0,\"#0d0887\"],[0.1111111111111111,\"#46039f\"],[0.2222222222222222,\"#7201a8\"],[0.3333333333333333,\"#9c179e\"],[0.4444444444444444,\"#bd3786\"],[0.5555555555555556,\"#d8576b\"],[0.6666666666666666,\"#ed7953\"],[0.7777777777777778,\"#fb9f3a\"],[0.8888888888888888,\"#fdca26\"],[1.0,\"#f0f921\"]],\"type\":\"heatmap\"}],\"histogram2dcontour\":[{\"colorbar\":{\"outlinewidth\":0,\"ticks\":\"\"},\"colorscale\":[[0.0,\"#0d0887\"],[0.1111111111111111,\"#46039f\"],[0.2222222222222222,\"#7201a8\"],[0.3333333333333333,\"#9c179e\"],[0.4444444444444444,\"#bd3786\"],[0.5555555555555556,\"#d8576b\"],[0.6666666666666666,\"#ed7953\"],[0.7777777777777778,\"#fb9f3a\"],[0.8888888888888888,\"#fdca26\"],[1.0,\"#f0f921\"]],\"type\":\"histogram2dcontour\"}],\"histogram2d\":[{\"colorbar\":{\"outlinewidth\":0,\"ticks\":\"\"},\"colorscale\":[[0.0,\"#0d0887\"],[0.1111111111111111,\"#46039f\"],[0.2222222222222222,\"#7201a8\"],[0.3333333333333333,\"#9c179e\"],[0.4444444444444444,\"#bd3786\"],[0.5555555555555556,\"#d8576b\"],[0.6666666666666666,\"#ed7953\"],[0.7777777777777778,\"#fb9f3a\"],[0.8888888888888888,\"#fdca26\"],[1.0,\"#f0f921\"]],\"type\":\"histogram2d\"}],\"histogram\":[{\"marker\":{\"pattern\":{\"fillmode\":\"overlay\",\"size\":10,\"solidity\":0.2}},\"type\":\"histogram\"}],\"mesh3d\":[{\"colorbar\":{\"outlinewidth\":0,\"ticks\":\"\"},\"type\":\"mesh3d\"}],\"parcoords\":[{\"line\":{\"colorbar\":{\"outlinewidth\":0,\"ticks\":\"\"}},\"type\":\"parcoords\"}],\"pie\":[{\"automargin\":true,\"type\":\"pie\"}],\"scatter3d\":[{\"line\":{\"colorbar\":{\"outlinewidth\":0,\"ticks\":\"\"}},\"marker\":{\"colorbar\":{\"outlinewidth\":0,\"ticks\":\"\"}},\"type\":\"scatter3d\"}],\"scattercarpet\":[{\"marker\":{\"colorbar\":{\"outlinewidth\":0,\"ticks\":\"\"}},\"type\":\"scattercarpet\"}],\"scattergeo\":[{\"marker\":{\"colorbar\":{\"outlinewidth\":0,\"ticks\":\"\"}},\"type\":\"scattergeo\"}],\"scattergl\":[{\"marker\":{\"colorbar\":{\"outlinewidth\":0,\"ticks\":\"\"}},\"type\":\"scattergl\"}],\"scattermapbox\":[{\"marker\":{\"colorbar\":{\"outlinewidth\":0,\"ticks\":\"\"}},\"type\":\"scattermapbox\"}],\"scatterpolargl\":[{\"marker\":{\"colorbar\":{\"outlinewidth\":0,\"ticks\":\"\"}},\"type\":\"scatterpolargl\"}],\"scatterpolar\":[{\"marker\":{\"colorbar\":{\"outlinewidth\":0,\"ticks\":\"\"}},\"type\":\"scatterpolar\"}],\"scatter\":[{\"fillpattern\":{\"fillmode\":\"overlay\",\"size\":10,\"solidity\":0.2},\"type\":\"scatter\"}],\"scatterternary\":[{\"marker\":{\"colorbar\":{\"outlinewidth\":0,\"ticks\":\"\"}},\"type\":\"scatterternary\"}],\"surface\":[{\"colorbar\":{\"outlinewidth\":0,\"ticks\":\"\"},\"colorscale\":[[0.0,\"#0d0887\"],[0.1111111111111111,\"#46039f\"],[0.2222222222222222,\"#7201a8\"],[0.3333333333333333,\"#9c179e\"],[0.4444444444444444,\"#bd3786\"],[0.5555555555555556,\"#d8576b\"],[0.6666666666666666,\"#ed7953\"],[0.7777777777777778,\"#fb9f3a\"],[0.8888888888888888,\"#fdca26\"],[1.0,\"#f0f921\"]],\"type\":\"surface\"}],\"table\":[{\"cells\":{\"fill\":{\"color\":\"#EBF0F8\"},\"line\":{\"color\":\"white\"}},\"header\":{\"fill\":{\"color\":\"#C8D4E3\"},\"line\":{\"color\":\"white\"}},\"type\":\"table\"}]},\"layout\":{\"annotationdefaults\":{\"arrowcolor\":\"#2a3f5f\",\"arrowhead\":0,\"arrowwidth\":1},\"autotypenumbers\":\"strict\",\"coloraxis\":{\"colorbar\":{\"outlinewidth\":0,\"ticks\":\"\"}},\"colorscale\":{\"diverging\":[[0,\"#8e0152\"],[0.1,\"#c51b7d\"],[0.2,\"#de77ae\"],[0.3,\"#f1b6da\"],[0.4,\"#fde0ef\"],[0.5,\"#f7f7f7\"],[0.6,\"#e6f5d0\"],[0.7,\"#b8e186\"],[0.8,\"#7fbc41\"],[0.9,\"#4d9221\"],[1,\"#276419\"]],\"sequential\":[[0.0,\"#0d0887\"],[0.1111111111111111,\"#46039f\"],[0.2222222222222222,\"#7201a8\"],[0.3333333333333333,\"#9c179e\"],[0.4444444444444444,\"#bd3786\"],[0.5555555555555556,\"#d8576b\"],[0.6666666666666666,\"#ed7953\"],[0.7777777777777778,\"#fb9f3a\"],[0.8888888888888888,\"#fdca26\"],[1.0,\"#f0f921\"]],\"sequentialminus\":[[0.0,\"#0d0887\"],[0.1111111111111111,\"#46039f\"],[0.2222222222222222,\"#7201a8\"],[0.3333333333333333,\"#9c179e\"],[0.4444444444444444,\"#bd3786\"],[0.5555555555555556,\"#d8576b\"],[0.6666666666666666,\"#ed7953\"],[0.7777777777777778,\"#fb9f3a\"],[0.8888888888888888,\"#fdca26\"],[1.0,\"#f0f921\"]]},\"colorway\":[\"#636efa\",\"#EF553B\",\"#00cc96\",\"#ab63fa\",\"#FFA15A\",\"#19d3f3\",\"#FF6692\",\"#B6E880\",\"#FF97FF\",\"#FECB52\"],\"font\":{\"color\":\"#2a3f5f\"},\"geo\":{\"bgcolor\":\"white\",\"lakecolor\":\"white\",\"landcolor\":\"white\",\"showlakes\":true,\"showland\":true,\"subunitcolor\":\"#C8D4E3\"},\"hoverlabel\":{\"align\":\"left\"},\"hovermode\":\"closest\",\"mapbox\":{\"style\":\"light\"},\"paper_bgcolor\":\"white\",\"plot_bgcolor\":\"white\",\"polar\":{\"angularaxis\":{\"gridcolor\":\"#EBF0F8\",\"linecolor\":\"#EBF0F8\",\"ticks\":\"\"},\"bgcolor\":\"white\",\"radialaxis\":{\"gridcolor\":\"#EBF0F8\",\"linecolor\":\"#EBF0F8\",\"ticks\":\"\"}},\"scene\":{\"xaxis\":{\"backgroundcolor\":\"white\",\"gridcolor\":\"#DFE8F3\",\"gridwidth\":2,\"linecolor\":\"#EBF0F8\",\"showbackground\":true,\"ticks\":\"\",\"zerolinecolor\":\"#EBF0F8\"},\"yaxis\":{\"backgroundcolor\":\"white\",\"gridcolor\":\"#DFE8F3\",\"gridwidth\":2,\"linecolor\":\"#EBF0F8\",\"showbackground\":true,\"ticks\":\"\",\"zerolinecolor\":\"#EBF0F8\"},\"zaxis\":{\"backgroundcolor\":\"white\",\"gridcolor\":\"#DFE8F3\",\"gridwidth\":2,\"linecolor\":\"#EBF0F8\",\"showbackground\":true,\"ticks\":\"\",\"zerolinecolor\":\"#EBF0F8\"}},\"shapedefaults\":{\"line\":{\"color\":\"#2a3f5f\"}},\"ternary\":{\"aaxis\":{\"gridcolor\":\"#DFE8F3\",\"linecolor\":\"#A2B1C6\",\"ticks\":\"\"},\"baxis\":{\"gridcolor\":\"#DFE8F3\",\"linecolor\":\"#A2B1C6\",\"ticks\":\"\"},\"bgcolor\":\"white\",\"caxis\":{\"gridcolor\":\"#DFE8F3\",\"linecolor\":\"#A2B1C6\",\"ticks\":\"\"}},\"title\":{\"x\":0.05},\"xaxis\":{\"automargin\":true,\"gridcolor\":\"#EBF0F8\",\"linecolor\":\"#EBF0F8\",\"ticks\":\"\",\"title\":{\"standoff\":15},\"zerolinecolor\":\"#EBF0F8\",\"zerolinewidth\":2},\"yaxis\":{\"automargin\":true,\"gridcolor\":\"#EBF0F8\",\"linecolor\":\"#EBF0F8\",\"ticks\":\"\",\"title\":{\"standoff\":15},\"zerolinecolor\":\"#EBF0F8\",\"zerolinewidth\":2}}},\"polar\":{\"domain\":{\"x\":[0.0,1.0],\"y\":[0.0,1.0]},\"angularaxis\":{\"direction\":\"clockwise\",\"rotation\":90}},\"legend\":{\"title\":{\"text\":\"pathway\"},\"tracegroupgap\":0},\"margin\":{\"t\":60},\"barmode\":\"relative\",\"height\":1200,\"width\":1200,\"showlegend\":true},                        {\"responsive\": true}                    )                };                            </script>        </div>"
      ],
      "text/plain": [
       "Figure({\n",
       "    'data': [{'hovertemplate': 'pathway=Apoptosis<br>log2(FC)=%{r}<br>Gene name=%{theta}<extra></extra>',\n",
       "              'legendgroup': 'Apoptosis',\n",
       "              'marker': {'color': '#9B5DE5', 'line': {'color': 'black', 'width': 1}, 'pattern': {'shape': ''}},\n",
       "              'name': 'Apoptosis',\n",
       "              'r': array([1.22371806, 1.33351677, 3.65395533, 1.32672135, 2.06793364, 3.14617574,\n",
       "                          1.10358348, 1.59956435, 1.16913912, 1.26823636, 2.45506661, 3.63167705,\n",
       "                          2.99387061, 1.41073647, 2.80446971, 2.638638  , 2.82421341, 1.6920529 ,\n",
       "                          2.45142104, 1.20512954, 1.67103808, 1.35343627, 1.42989258, 1.74210652,\n",
       "                          1.47504982, 1.86136663, 1.6160008 , 2.35188658, 1.29574769, 3.85722414,\n",
       "                          2.13190239, 1.45602461, 2.40246914]),\n",
       "              'showlegend': True,\n",
       "              'subplot': 'polar',\n",
       "              'theta': array(['Actb', 'Birc3', 'Birc5', 'Bak1', 'Bcl2a1a', 'Bcl2a1b', 'Bcl2l11',\n",
       "                              'Casp12', 'Casp6', 'Casp7', 'Casp8', 'Csf2rb', 'Csf2rb2', 'Ctsb',\n",
       "                              'Ctsc', 'Ctsd', 'Ctsh', 'Ctsl', 'Ctss', 'Fadd', 'Fas', 'Il3ra', 'Itpr3',\n",
       "                              'Lmnb1', 'Ripk1', 'Tnf', 'Tnfrsf10b', 'Tnfrsf1a', 'Traf1', 'Tuba1c',\n",
       "                              'Parp3', 'Parp4', 'Ctsz'], dtype=object),\n",
       "              'type': 'barpolar'},\n",
       "             {'hovertemplate': 'pathway=Necroptosis<br>log2(FC)=%{r}<br>Gene name=%{theta}<extra></extra>',\n",
       "              'legendgroup': 'Necroptosis',\n",
       "              'marker': {'color': '#F15BB5', 'line': {'color': 'black', 'width': 1}, 'pattern': {'shape': ''}},\n",
       "              'name': 'Necroptosis',\n",
       "              'r': array([1.12623368, 1.58435281, 1.33351677, 1.03985186, 2.45506661, 3.22570369,\n",
       "                          1.20512954, 1.67103808, 1.09218056, 1.40075185, 1.52865288, 1.24901322,\n",
       "                          1.70551634, 2.0534662 , 1.25664913, 1.47504982, 1.26229124, 1.78218721,\n",
       "                          1.61027627, 1.55568645, 1.86136663, 1.6160008 , 2.35188658, 3.23238932,\n",
       "                          2.70261782, 1.77981488, 2.06175341, 1.27491987]),\n",
       "              'showlegend': True,\n",
       "              'subplot': 'polar',\n",
       "              'theta': array(['Ticam1', 'Pygl', 'Birc3', 'Casp1', 'Casp8', 'Cybb', 'Fadd', 'Fas',\n",
       "                              'Ifnar2', 'Ifngr1', 'Il1b', 'Irf9', 'Jak3', 'Pla2g4a', 'Eif2ak2',\n",
       "                              'Ripk1', 'Stat3', 'Stat5a', 'Nlrp3', 'Tlr4', 'Tnf', 'Tnfrsf10b',\n",
       "                              'Tnfrsf1a', 'Ticam2', 'Ripk3', 'Zbp1', 'Pycard', 'Mlkl'], dtype=object),\n",
       "              'type': 'barpolar'},\n",
       "             {'hovertemplate': ('pathway=Insulin_signaling_path' ... 'e name=%{theta}<extra></extra>'),\n",
       "              'legendgroup': 'Insulin_signaling_pathway',\n",
       "              'marker': {'color': '#FEE440', 'line': {'color': 'black', 'width': 1}, 'pattern': {'shape': ''}},\n",
       "              'name': 'Insulin_signaling_pathway',\n",
       "              'r': array([ 1.58435281, -1.00951901,  1.87077067,  2.51721978,  1.44379282,\n",
       "                           2.2517192 , -1.07475848,  1.85730001]),\n",
       "              'showlegend': True,\n",
       "              'subplot': 'polar',\n",
       "              'theta': array(['Pygl', 'Calm3', 'Socs3', 'Hk2', 'Shc1', 'Hk3', 'Hkdc1', 'Ppp1r3b'],\n",
       "                             dtype=object),\n",
       "              'type': 'barpolar'},\n",
       "             {'hovertemplate': ('pathway=Cellular_senescence<br' ... 'e name=%{theta}<extra></extra>'),\n",
       "              'legendgroup': 'Cellular_senescence',\n",
       "              'marker': {'color': '#00BBF9', 'line': {'color': 'black', 'width': 1}, 'pattern': {'shape': ''}},\n",
       "              'name': 'Cellular_senescence',\n",
       "              'r': array([ 1.37421196,  1.47826566, -1.00951901, -1.10620864,  2.42646595,\n",
       "                           2.92640357,  1.67514144,  5.35390566,  1.37161881,  1.47241515,\n",
       "                           1.33565808,  2.26750892,  1.34647916,  3.20470539,  1.43589702,\n",
       "                           1.99414177,  1.22459998,  1.06321942,  1.79698229,  1.42989258,\n",
       "                           1.3770261 ,  1.48212941,  4.41530628,  1.98187291,  2.15462714,\n",
       "                           1.47753474,  1.31537286, -1.16892097,  1.24003252,  1.53004551,\n",
       "                           2.25626397,  1.99414177,  1.19162136,  1.43198038]),\n",
       "              'showlegend': True,\n",
       "              'subplot': 'polar',\n",
       "              'theta': array(['Zfp36l1', 'Zfp36l2', 'Calm3', 'Ccna1', 'Ccna2', 'Ccnb2', 'Ccnd1',\n",
       "                              'Cdk1', 'Cdk2', 'Cdk6', 'Cdkn1a', 'Cdkn2a', 'Chek1', 'Foxm1', 'H2-D1',\n",
       "                              'H2-K1', 'H2-Q4', 'H2-Q7', 'Igfbp3', 'Itpr3', 'Mybl2', 'Nfatc1',\n",
       "                              'Serpine1', 'Rbl1', 'Tgfb1', 'Tgfbr2', 'Ets1', 'H2-M5', 'E2f2', 'Ccnb1',\n",
       "                              'Chek2', 'H2-K1', 'Trpv4', 'Nfatc4'], dtype=object),\n",
       "              'type': 'barpolar'},\n",
       "             {'hovertemplate': ('pathway=Pancreatic_secretion<b' ... 'e name=%{theta}<extra></extra>'),\n",
       "              'legendgroup': 'Pancreatic_secretion',\n",
       "              'marker': {'color': '#00F5D4', 'line': {'color': 'black', 'width': 1}, 'pattern': {'shape': ''}},\n",
       "              'name': 'Pancreatic_secretion',\n",
       "              'r': array([ 1.80454716,  1.37789365, -1.06416077,  1.87262598,  1.91061844,\n",
       "                           1.42989258,  1.69808632,  1.98405495,  1.39745134,  1.33555791,\n",
       "                           1.62034065]),\n",
       "              'showlegend': True,\n",
       "              'subplot': 'polar',\n",
       "              'theta': array(['Adcy4', 'Adcy7', 'Adcy8', 'Bst1', 'Cd38', 'Itpr3', 'Kcnq1', 'Plcb2',\n",
       "                              'Plcb3', 'Tpcn2', 'Atp1a4'], dtype=object),\n",
       "              'type': 'barpolar'},\n",
       "             {'hovertemplate': ('pathway=p53_signaling_pathway<' ... 'e name=%{theta}<extra></extra>'),\n",
       "              'legendgroup': 'p53_signaling_pathway',\n",
       "              'marker': {'color': '#F7EDE2', 'line': {'color': 'black', 'width': 1}, 'pattern': {'shape': ''}},\n",
       "              'name': 'p53_signaling_pathway',\n",
       "              'r': array([2.45506661, 2.92640357, 1.67514144, 1.24601006, 5.35390566, 1.37161881,\n",
       "                          1.47241515, 1.33565808, 2.26750892, 1.34647916, 1.67103808, 1.23762803,\n",
       "                          1.79698229, 4.41530628, 3.77095871, 3.25404539, 1.6160008 , 1.53004551,\n",
       "                          2.10426584, 2.25626397, 2.19871071]),\n",
       "              'showlegend': True,\n",
       "              'subplot': 'polar',\n",
       "              'theta': array(['Casp8', 'Ccnb2', 'Ccnd1', 'Cd82', 'Cdk1', 'Cdk2', 'Cdk6', 'Cdkn1a',\n",
       "                              'Cdkn2a', 'Chek1', 'Fas', 'Igf1', 'Igfbp3', 'Serpine1', 'Rrm2', 'Thbs1',\n",
       "                              'Tnfrsf10b', 'Ccnb1', 'Gtse1', 'Chek2', 'Steap3'], dtype=object),\n",
       "              'type': 'barpolar'},\n",
       "             {'hovertemplate': 'pathway=Ferroptosis<br>log2(FC)=%{r}<br>Gene name=%{theta}<extra></extra>',\n",
       "              'legendgroup': 'Ferroptosis',\n",
       "              'marker': {'color': '#F5CAC3', 'line': {'color': 'black', 'width': 1}, 'pattern': {'shape': ''}},\n",
       "              'name': 'Ferroptosis',\n",
       "              'r': array([1.84869666, 3.22570369, 4.66280296, 2.11361204, 2.19871071]),\n",
       "              'showlegend': True,\n",
       "              'subplot': 'polar',\n",
       "              'theta': array(['Cp', 'Cybb', 'Hmox1', 'Trf', 'Steap3'], dtype=object),\n",
       "              'type': 'barpolar'}],\n",
       "    'layout': {'barmode': 'relative',\n",
       "               'height': 1200,\n",
       "               'legend': {'title': {'text': 'pathway'}, 'tracegroupgap': 0},\n",
       "               'margin': {'t': 60},\n",
       "               'polar': {'angularaxis': {'direction': 'clockwise', 'rotation': 90},\n",
       "                         'domain': {'x': [0.0, 1.0], 'y': [0.0, 1.0]}},\n",
       "               'showlegend': True,\n",
       "               'template': '...',\n",
       "               'width': 1200}\n",
       "})"
      ]
     },
     "execution_count": 8,
     "metadata": {},
     "output_type": "execute_result"
    }
   ],
   "source": [
    "make_polar_plot(combinedDf)"
   ]
  },
  {
   "cell_type": "markdown",
   "metadata": {},
   "source": [
    "# "
   ]
  },
  {
   "cell_type": "markdown",
   "metadata": {},
   "source": [
    "# Network graph"
   ]
  },
  {
   "cell_type": "code",
   "execution_count": 9,
   "metadata": {},
   "outputs": [],
   "source": [
    "plot_graph(root_path=root_path,kegg_path_list=kegg_path_list,species=species,sequence_path=rna_seq_path)"
   ]
  },
  {
   "cell_type": "markdown",
   "metadata": {},
   "source": [
    "# Important nodes"
   ]
  },
  {
   "cell_type": "code",
   "execution_count": 10,
   "metadata": {},
   "outputs": [],
   "source": [
    "graphML = nx.read_graphml(root_path + 'graph.net')"
   ]
  },
  {
   "cell_type": "code",
   "execution_count": 12,
   "metadata": {},
   "outputs": [],
   "source": [
    "save_node_importance(root_path,graphML)"
   ]
  }
 ],
 "metadata": {
  "kernelspec": {
   "display_name": "stroke_dti",
   "language": "python",
   "name": "python3"
  },
  "language_info": {
   "codemirror_mode": {
    "name": "ipython",
    "version": 3
   },
   "file_extension": ".py",
   "mimetype": "text/x-python",
   "name": "python",
   "nbconvert_exporter": "python",
   "pygments_lexer": "ipython3",
   "version": "3.13.1"
  }
 },
 "nbformat": 4,
 "nbformat_minor": 2
}
